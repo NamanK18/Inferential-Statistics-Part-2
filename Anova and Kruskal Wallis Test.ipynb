{
 "cells": [
  {
   "cell_type": "markdown",
   "id": "344848b6",
   "metadata": {},
   "source": [
    "# OBJECTIVE :-To See a significant difference in marks between A,B And C. In this case if the variable has a normal distribution then ANOVA TEST is used.If the variable doesn't have that then KRUSKAL WALIS TEST is used.\n",
    "## The libraries in python consist of Functions and Datasets.The name of the dataset that we used here is IRIS which is present inside the seaborn library. \n",
    "### 1.Import the pandas and seaborn libraries.\n",
    "### 2.To import the dataset from the seaborn library,we use 'sns.load_dataset' like we use read_csv earlier.\n",
    "### 3.The function changes depending on the library from which the dataset has been called.\n",
    "## The null hypothesis is there is no significant difference in the sepal length across the three species.\n",
    "## Alternate hypotheis is there is a significant difference in sepal length across the three species."
   ]
  },
  {
   "cell_type": "code",
   "execution_count": 2,
   "id": "5f5e0875",
   "metadata": {},
   "outputs": [],
   "source": [
    "import pandas as pd\n",
    "import seaborn as sns"
   ]
  },
  {
   "cell_type": "code",
   "execution_count": 3,
   "id": "f7e7ebfa",
   "metadata": {},
   "outputs": [
    {
     "data": {
      "text/html": [
       "<div>\n",
       "<style scoped>\n",
       "    .dataframe tbody tr th:only-of-type {\n",
       "        vertical-align: middle;\n",
       "    }\n",
       "\n",
       "    .dataframe tbody tr th {\n",
       "        vertical-align: top;\n",
       "    }\n",
       "\n",
       "    .dataframe thead th {\n",
       "        text-align: right;\n",
       "    }\n",
       "</style>\n",
       "<table border=\"1\" class=\"dataframe\">\n",
       "  <thead>\n",
       "    <tr style=\"text-align: right;\">\n",
       "      <th></th>\n",
       "      <th>sepal_length</th>\n",
       "      <th>sepal_width</th>\n",
       "      <th>petal_length</th>\n",
       "      <th>petal_width</th>\n",
       "      <th>species</th>\n",
       "    </tr>\n",
       "  </thead>\n",
       "  <tbody>\n",
       "    <tr>\n",
       "      <th>0</th>\n",
       "      <td>5.1</td>\n",
       "      <td>3.5</td>\n",
       "      <td>1.4</td>\n",
       "      <td>0.2</td>\n",
       "      <td>setosa</td>\n",
       "    </tr>\n",
       "    <tr>\n",
       "      <th>1</th>\n",
       "      <td>4.9</td>\n",
       "      <td>3.0</td>\n",
       "      <td>1.4</td>\n",
       "      <td>0.2</td>\n",
       "      <td>setosa</td>\n",
       "    </tr>\n",
       "    <tr>\n",
       "      <th>2</th>\n",
       "      <td>4.7</td>\n",
       "      <td>3.2</td>\n",
       "      <td>1.3</td>\n",
       "      <td>0.2</td>\n",
       "      <td>setosa</td>\n",
       "    </tr>\n",
       "    <tr>\n",
       "      <th>3</th>\n",
       "      <td>4.6</td>\n",
       "      <td>3.1</td>\n",
       "      <td>1.5</td>\n",
       "      <td>0.2</td>\n",
       "      <td>setosa</td>\n",
       "    </tr>\n",
       "    <tr>\n",
       "      <th>4</th>\n",
       "      <td>5.0</td>\n",
       "      <td>3.6</td>\n",
       "      <td>1.4</td>\n",
       "      <td>0.2</td>\n",
       "      <td>setosa</td>\n",
       "    </tr>\n",
       "  </tbody>\n",
       "</table>\n",
       "</div>"
      ],
      "text/plain": [
       "   sepal_length  sepal_width  petal_length  petal_width species\n",
       "0           5.1          3.5           1.4          0.2  setosa\n",
       "1           4.9          3.0           1.4          0.2  setosa\n",
       "2           4.7          3.2           1.3          0.2  setosa\n",
       "3           4.6          3.1           1.5          0.2  setosa\n",
       "4           5.0          3.6           1.4          0.2  setosa"
      ]
     },
     "execution_count": 3,
     "metadata": {},
     "output_type": "execute_result"
    }
   ],
   "source": [
    "iris=sns.load_dataset('iris') #The function and dataset is inside seaborn library.\n",
    "iris.head()"
   ]
  },
  {
   "cell_type": "markdown",
   "id": "b90de88e",
   "metadata": {},
   "source": [
    "# To check the datatype of the variables iris.info() is used.\n"
   ]
  },
  {
   "cell_type": "code",
   "execution_count": 4,
   "id": "155911fb",
   "metadata": {},
   "outputs": [
    {
     "name": "stdout",
     "output_type": "stream",
     "text": [
      "<class 'pandas.core.frame.DataFrame'>\n",
      "RangeIndex: 150 entries, 0 to 149\n",
      "Data columns (total 5 columns):\n",
      " #   Column        Non-Null Count  Dtype  \n",
      "---  ------        --------------  -----  \n",
      " 0   sepal_length  150 non-null    float64\n",
      " 1   sepal_width   150 non-null    float64\n",
      " 2   petal_length  150 non-null    float64\n",
      " 3   petal_width   150 non-null    float64\n",
      " 4   species       150 non-null    object \n",
      "dtypes: float64(4), object(1)\n",
      "memory usage: 6.0+ KB\n"
     ]
    }
   ],
   "source": [
    "iris.info()"
   ]
  },
  {
   "cell_type": "markdown",
   "id": "3329f61a",
   "metadata": {},
   "source": [
    "# To convert the variable from object datatype to categorical:The variable species need to be converted into categorical."
   ]
  },
  {
   "cell_type": "code",
   "execution_count": 5,
   "id": "2ec2008e",
   "metadata": {},
   "outputs": [],
   "source": [
    "iris['species']=pd.Categorical(iris['species']) #Categorical is the function in the seaborn library.We can also create new variable in the dataset."
   ]
  },
  {
   "cell_type": "code",
   "execution_count": 6,
   "id": "87be6a95",
   "metadata": {},
   "outputs": [
    {
     "name": "stdout",
     "output_type": "stream",
     "text": [
      "<class 'pandas.core.frame.DataFrame'>\n",
      "RangeIndex: 150 entries, 0 to 149\n",
      "Data columns (total 5 columns):\n",
      " #   Column        Non-Null Count  Dtype   \n",
      "---  ------        --------------  -----   \n",
      " 0   sepal_length  150 non-null    float64 \n",
      " 1   sepal_width   150 non-null    float64 \n",
      " 2   petal_length  150 non-null    float64 \n",
      " 3   petal_width   150 non-null    float64 \n",
      " 4   species       150 non-null    category\n",
      "dtypes: category(1), float64(4)\n",
      "memory usage: 5.1 KB\n"
     ]
    }
   ],
   "source": [
    "iris.info() #the variable species is getting converted into Category from Object."
   ]
  },
  {
   "cell_type": "markdown",
   "id": "3af43a98",
   "metadata": {},
   "source": [
    "#### Categorical variable takes less variable as compared to object variable.It is mandatory to have categorical datatype for the ANOVA TEST to run."
   ]
  },
  {
   "cell_type": "markdown",
   "id": "969c29b1",
   "metadata": {},
   "source": [
    "# To check the categories for species:"
   ]
  },
  {
   "cell_type": "code",
   "execution_count": 7,
   "id": "10742357",
   "metadata": {},
   "outputs": [
    {
     "data": {
      "text/plain": [
       "['setosa', 'versicolor', 'virginica']\n",
       "Categories (3, object): ['setosa', 'versicolor', 'virginica']"
      ]
     },
     "execution_count": 7,
     "metadata": {},
     "output_type": "execute_result"
    }
   ],
   "source": [
    "iris['species'].unique() #This function tells that there are three distinct categories in the categorical variable."
   ]
  },
  {
   "cell_type": "code",
   "execution_count": 8,
   "id": "9245935f",
   "metadata": {},
   "outputs": [],
   "source": [
    "from statsmodels.formula.api import ols\n",
    "from statsmodels.stats.anova import anova_lm\n",
    "import numpy as np"
   ]
  },
  {
   "cell_type": "markdown",
   "id": "43335e38",
   "metadata": {},
   "source": [
    "# To perform ANOVA and check the hypothesis."
   ]
  },
  {
   "cell_type": "code",
   "execution_count": 9,
   "id": "71eca6c2",
   "metadata": {},
   "outputs": [
    {
     "name": "stdout",
     "output_type": "stream",
     "text": [
      "               df     sum_sq   mean_sq         F        PR(>F)\n",
      "C(species)    2.0  11.344933  5.672467  49.16004  4.492017e-17\n",
      "Residual    147.0  16.962000  0.115388       NaN           NaN\n"
     ]
    }
   ],
   "source": [
    "formula='sepal_width ~ C(species)' # C stands for categorical.\n",
    "model=ols(formula,iris).fit() #iris here is dataframe.ols stands for Ordinary Least Square.\n",
    "aov_table=anova_lm(model)\n",
    "print(aov_table)\n",
    "\n"
   ]
  },
  {
   "cell_type": "markdown",
   "id": "f0d047bf",
   "metadata": {},
   "source": [
    "## The value calculated from python is more than the critical value from the table so the null hypothesis is rejected and there is a significant difference in the sepal width across the three species."
   ]
  },
  {
   "cell_type": "markdown",
   "id": "222ece0c",
   "metadata": {},
   "source": [
    "# Question 1:-Use the dataset hsb2.csv.Replace 1 with b.tech,2 with m.tech and 3 with research.The objective is to see is there a significance difference in the reading scale of the students between the three kinds of programs."
   ]
  },
  {
   "cell_type": "code",
   "execution_count": 13,
   "id": "3db32626",
   "metadata": {},
   "outputs": [],
   "source": [
    "df1=pd.read_csv('F:\\hsbw2.csv')"
   ]
  },
  {
   "cell_type": "code",
   "execution_count": 14,
   "id": "6c43ff2b",
   "metadata": {},
   "outputs": [
    {
     "data": {
      "text/plain": [
       "array(['b.tech', 'research', 'm.tech'], dtype=object)"
      ]
     },
     "execution_count": 14,
     "metadata": {},
     "output_type": "execute_result"
    }
   ],
   "source": [
    "df1['prog'].unique()"
   ]
  },
  {
   "cell_type": "code",
   "execution_count": 15,
   "id": "6d0b7392",
   "metadata": {},
   "outputs": [
    {
     "name": "stdout",
     "output_type": "stream",
     "text": [
      "             df       sum_sq      mean_sq          F        PR(>F)\n",
      "C(prog)     2.0   3716.86127  1858.430635  21.282348  4.283274e-09\n",
      "Residual  197.0  17202.55873    87.322633        NaN           NaN\n"
     ]
    }
   ],
   "source": [
    "formula='read ~ C(prog)' # C stands for categorical.\n",
    "model=ols(formula,df1).fit() #iris here is dataframe.ols stands for Ordinary Least Square.\n",
    "aov_table=anova_lm(model)\n",
    "print(aov_table)"
   ]
  },
  {
   "cell_type": "markdown",
   "id": "2f385b99",
   "metadata": {},
   "source": [
    "# The null hypothesis is rejected as the value of f from the table is 3.04 and the calculated value is 21.28 which is greater than the value from the table.\n",
    "# There are four categories from the variable race north south east west.check the hypothesis is there a significant difference in the math with the race difference."
   ]
  },
  {
   "cell_type": "code",
   "execution_count": 18,
   "id": "a82a2979",
   "metadata": {},
   "outputs": [],
   "source": [
    "df2=pd.read_csv('F:\\hsby2.csv')"
   ]
  },
  {
   "cell_type": "code",
   "execution_count": 20,
   "id": "d028a1c6",
   "metadata": {},
   "outputs": [
    {
     "data": {
      "text/plain": [
       "array(['west', 'east', 'north', 'south'], dtype=object)"
      ]
     },
     "execution_count": 20,
     "metadata": {},
     "output_type": "execute_result"
    }
   ],
   "source": [
    "df2['race'].unique()"
   ]
  },
  {
   "cell_type": "code",
   "execution_count": 21,
   "id": "05608e72",
   "metadata": {},
   "outputs": [
    {
     "name": "stdout",
     "output_type": "stream",
     "text": [
      "             df        sum_sq     mean_sq         F    PR(>F)\n",
      "C(race)     3.0   1842.140193  614.046731  7.703265  0.000068\n",
      "Residual  196.0  15623.654807   79.712525       NaN       NaN\n"
     ]
    }
   ],
   "source": [
    "formula='math ~ C(race)' # C stands for categorical.\n",
    "model=ols(formula,df2).fit() #iris here is dataframe.ols stands for Ordinary Least Square.\n",
    "aov_table=anova_lm(model)\n",
    "print(aov_table)"
   ]
  },
  {
   "cell_type": "markdown",
   "id": "a5c002b1",
   "metadata": {},
   "source": [
    "# The null hypothesis is rejected here also."
   ]
  },
  {
   "cell_type": "markdown",
   "id": "5676311b",
   "metadata": {},
   "source": [
    "# KRUSKAL WALIS TEST:-\n",
    "## If the variable doesn't have the normal distribution then used Kruskal Walis Test."
   ]
  },
  {
   "cell_type": "code",
   "execution_count": 24,
   "id": "a2d21c6a",
   "metadata": {},
   "outputs": [
    {
     "name": "stdout",
     "output_type": "stream",
     "text": [
      "stat=63.571,p=0.000\n",
      "Probably different distribution\n"
     ]
    }
   ],
   "source": [
    "from scipy.stats import kruskal\n",
    "stat,p=kruskal(iris['sepal_width'][iris['species']=='setosa'],\n",
    "              iris['sepal_width'][iris['species']=='versicolor'],\n",
    "              iris['sepal_width'][iris['species']=='virginica'])\n",
    "print('stat=%.3f,p=%.3f'%(stat,p))\n",
    "if p>0.05:\n",
    "    print('Probably the same distribution')\n",
    "else:\n",
    "    print('Probably different distribution')"
   ]
  },
  {
   "cell_type": "markdown",
   "id": "4ecb192e",
   "metadata": {},
   "source": [
    "# Replace 1 with low,2 with middle,3 with high for the ses.do the kruskal walis test to see is there a significant difference in the science iq with students from different socio-economic status(ses)."
   ]
  },
  {
   "cell_type": "code",
   "execution_count": 28,
   "id": "a3848ba3",
   "metadata": {},
   "outputs": [],
   "source": [
    "df3=pd.read_csv('F:\\hsba2.csv')"
   ]
  },
  {
   "cell_type": "code",
   "execution_count": 29,
   "id": "8809481b",
   "metadata": {},
   "outputs": [
    {
     "name": "stdout",
     "output_type": "stream",
     "text": [
      "stat=16.782,p=0.000\n",
      "Probably different distribution\n"
     ]
    }
   ],
   "source": [
    "from scipy.stats import kruskal\n",
    "stat,p=kruskal(df3['science'][df3['ses']=='low'],\n",
    "              df3['science'][df3['ses']=='middle'],\n",
    "              df3['science'][df3['ses']=='high'])\n",
    "print('stat=%.3f,p=%.3f'%(stat,p))\n",
    "if p>0.05:\n",
    "    print('Probably the same distribution')\n",
    "else:\n",
    "    print('Probably different distribution')"
   ]
  },
  {
   "cell_type": "code",
   "execution_count": null,
   "id": "2055c566",
   "metadata": {},
   "outputs": [],
   "source": []
  }
 ],
 "metadata": {
  "kernelspec": {
   "display_name": "Python 3 (ipykernel)",
   "language": "python",
   "name": "python3"
  },
  "language_info": {
   "codemirror_mode": {
    "name": "ipython",
    "version": 3
   },
   "file_extension": ".py",
   "mimetype": "text/x-python",
   "name": "python",
   "nbconvert_exporter": "python",
   "pygments_lexer": "ipython3",
   "version": "3.9.13"
  }
 },
 "nbformat": 4,
 "nbformat_minor": 5
}
